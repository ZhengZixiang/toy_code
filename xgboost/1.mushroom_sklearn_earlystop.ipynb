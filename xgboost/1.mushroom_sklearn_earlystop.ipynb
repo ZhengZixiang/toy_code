{
 "cells": [
  {
   "cell_type": "markdown",
   "metadata": {},
   "source": [
    "## XGBoost快速入门——与scikit-learn一起使用-split"
   ]
  },
  {
   "cell_type": "code",
   "execution_count": 1,
   "metadata": {},
   "outputs": [],
   "source": [
    "# 运行xgboost安装包中的示例程序\n",
    "import xgboost as xgb\n",
    "from xgboost import XGBClassifier\n",
    "\n",
    "# 加载libsvm格式数据模块\n",
    "from sklearn.datasets import load_svmlight_file\n",
    "from sklearn.model_selection import train_test_split\n",
    "from sklearn.metrics import accuracy_score\n",
    "\n",
    "import matplotlib.pyplot as plt\n",
    "%matplotlib inline"
   ]
  },
  {
   "cell_type": "markdown",
   "metadata": {},
   "source": [
    "## 数据读取\n",
    "scikit-learn支持多种格式的数据，包括LibSVM格式数据 XGBoost可以加载libsvm格式的文本数据，libsvm的文件格式（稀疏特征）如下： 1 101:1.2 102:0.03 0 1:2.1 10001:300 10002:400 ...\n",
    "\n",
    "每一行表示一个样本，第一行的开头的“1”是样本的标签。“101”和“102”为特征索引，'1.2'和'0.03' 为特征的值。 在两类分类中，用“1”表示正样本，用“0” 表示负样本。也支持[0,1]表示概率用来做标签，表示为正样本的概率。\n",
    "\n",
    "下面的示例数据需要我们通过一些蘑菇的若干属性判断这个品种是否有毒。[UCI数据描述](http://archive.ics.uci.edu/ml/machine-learning-databases/mushroom/)， 每个样本描述了蘑菇的22个属性，比如形状、气味等等(加工成libsvm格式后变成了126维特征)，然后给出了这个蘑菇是否可食用。其中6513个样本做训练，1611个样本做测试。"
   ]
  },
  {
   "cell_type": "code",
   "execution_count": 2,
   "metadata": {},
   "outputs": [
    {
     "data": {
      "text/plain": [
       "(6513, 126)"
      ]
     },
     "execution_count": 2,
     "metadata": {},
     "output_type": "execute_result"
    }
   ],
   "source": [
    "# read in data，数据在xgboost安装的路径下的demo目录，现在copy到代码目录下的data目录\n",
    "my_workpath = './data/'\n",
    "X_train, y_train = load_svmlight_file(my_workpath + 'agaricus.txt.train')\n",
    "X_test, y_test = load_svmlight_file(my_workpath + 'agaricus.txt.test')\n",
    "\n",
    "X_train.shape"
   ]
  },
  {
   "cell_type": "markdown",
   "metadata": {},
   "source": [
    "## 训练集-校验集分离\n",
    "假设我们取1/3的训练数据作为校验数据"
   ]
  },
  {
   "cell_type": "code",
   "execution_count": 3,
   "metadata": {},
   "outputs": [
    {
     "data": {
      "text/plain": [
       "(2150, 126)"
      ]
     },
     "execution_count": 3,
     "metadata": {},
     "output_type": "execute_result"
    }
   ],
   "source": [
    "# split data into train and test sets, 1/3的训练数据作为校验数据\n",
    "seed = 7\n",
    "test_size = 0.33\n",
    "X_train_part, X_validate, y_train_part, y_validate = train_test_split(X_train, y_train, test_size=test_size, random_state=seed)\n",
    "\n",
    "X_train_part.shape\n",
    "X_validate.shape"
   ]
  },
  {
   "cell_type": "markdown",
   "metadata": {},
   "source": [
    "## 训练参数设置\n",
    "- max_depth: 树的最大深度。缺省值为6，取值范围为：[1, ∞]\n",
    "- eta: 为了防止过拟合，更新过程中用到的收缩补偿。在每次提升计算之后，算法回直接获得新特征的权重。eta通过减缩特征的权重使提升计算过程更加保守。缺省值为0.3，取值范围为：[0, 1]\n",
    "- silent: 取0表示打印出运行时信息，取1时表示以缄默方式运行，不打印运行时信息。缺省值为0\n",
    "- objective: 定义学习任务及相应的学习目标，binary:logistic表示二分类的逻辑回归问题，输出为概率。\n",
    "\n",
    "其他参数取默认值。\n",
    "\n",
    "## 训练模型\n",
    "有了参数列表和数据就可以训练模型了"
   ]
  },
  {
   "cell_type": "code",
   "execution_count": 4,
   "metadata": {},
   "outputs": [
    {
     "name": "stdout",
     "output_type": "stream",
     "text": [
      "[0]\tvalidation_0-error:0.048372\n",
      "[1]\tvalidation_0-error:0.042326\n",
      "[2]\tvalidation_0-error:0.048372\n",
      "[3]\tvalidation_0-error:0.042326\n",
      "[4]\tvalidation_0-error:0.042326\n",
      "[5]\tvalidation_0-error:0.042326\n",
      "[6]\tvalidation_0-error:0.023256\n",
      "[7]\tvalidation_0-error:0.042326\n",
      "[8]\tvalidation_0-error:0.042326\n",
      "[9]\tvalidation_0-error:0.023256\n",
      "[10]\tvalidation_0-error:0.006512\n",
      "[11]\tvalidation_0-error:0.017674\n",
      "[12]\tvalidation_0-error:0.017674\n",
      "[13]\tvalidation_0-error:0.017674\n",
      "[14]\tvalidation_0-error:0.017674\n",
      "[15]\tvalidation_0-error:0.017674\n",
      "[16]\tvalidation_0-error:0.017674\n",
      "[17]\tvalidation_0-error:0.017674\n",
      "[18]\tvalidation_0-error:0.024651\n",
      "[19]\tvalidation_0-error:0.020465\n",
      "[20]\tvalidation_0-error:0.020465\n",
      "[21]\tvalidation_0-error:0.020465\n",
      "[22]\tvalidation_0-error:0.020465\n",
      "[23]\tvalidation_0-error:0.020465\n",
      "[24]\tvalidation_0-error:0.020465\n",
      "[25]\tvalidation_0-error:0.020465\n",
      "[26]\tvalidation_0-error:0.020465\n",
      "[27]\tvalidation_0-error:0.020465\n",
      "[28]\tvalidation_0-error:0.020465\n",
      "[29]\tvalidation_0-error:0.013488\n",
      "[30]\tvalidation_0-error:0.020465\n",
      "[31]\tvalidation_0-error:0.020465\n",
      "[32]\tvalidation_0-error:0.020465\n",
      "[33]\tvalidation_0-error:0.016279\n",
      "[34]\tvalidation_0-error:0.020465\n",
      "[35]\tvalidation_0-error:0.009302\n",
      "[36]\tvalidation_0-error:0.002326\n",
      "[37]\tvalidation_0-error:0.002326\n",
      "[38]\tvalidation_0-error:0.002326\n",
      "[39]\tvalidation_0-error:0.002326\n",
      "[40]\tvalidation_0-error:0.002326\n",
      "[41]\tvalidation_0-error:0.002326\n",
      "[42]\tvalidation_0-error:0.002326\n",
      "[43]\tvalidation_0-error:0.002326\n",
      "[44]\tvalidation_0-error:0.002326\n",
      "[45]\tvalidation_0-error:0.002326\n",
      "[46]\tvalidation_0-error:0.002326\n",
      "[47]\tvalidation_0-error:0.002326\n",
      "[48]\tvalidation_0-error:0.002326\n",
      "[49]\tvalidation_0-error:0.002326\n",
      "[50]\tvalidation_0-error:0.002326\n",
      "[51]\tvalidation_0-error:0.002326\n",
      "[52]\tvalidation_0-error:0.002326\n",
      "[53]\tvalidation_0-error:0.002326\n",
      "[54]\tvalidation_0-error:0.002326\n",
      "[55]\tvalidation_0-error:0.002326\n",
      "[56]\tvalidation_0-error:0.002326\n",
      "[57]\tvalidation_0-error:0.002326\n",
      "[58]\tvalidation_0-error:0.002326\n",
      "[59]\tvalidation_0-error:0.002326\n",
      "[60]\tvalidation_0-error:0.002326\n",
      "[61]\tvalidation_0-error:0.002326\n",
      "[62]\tvalidation_0-error:0.002326\n",
      "[63]\tvalidation_0-error:0.002326\n",
      "[64]\tvalidation_0-error:0.002326\n",
      "[65]\tvalidation_0-error:0.002326\n",
      "[66]\tvalidation_0-error:0.002326\n",
      "[67]\tvalidation_0-error:0.002326\n",
      "[68]\tvalidation_0-error:0.002326\n",
      "[69]\tvalidation_0-error:0.002326\n",
      "[70]\tvalidation_0-error:0.002326\n",
      "[71]\tvalidation_0-error:0.002326\n",
      "[72]\tvalidation_0-error:0.002326\n",
      "[73]\tvalidation_0-error:0.002326\n",
      "[74]\tvalidation_0-error:0.002326\n",
      "[75]\tvalidation_0-error:0.002326\n",
      "[76]\tvalidation_0-error:0.002326\n",
      "[77]\tvalidation_0-error:0.002326\n",
      "[78]\tvalidation_0-error:0.002326\n",
      "[79]\tvalidation_0-error:0.002326\n",
      "[80]\tvalidation_0-error:0.002326\n",
      "[81]\tvalidation_0-error:0.002326\n",
      "[82]\tvalidation_0-error:0.002326\n",
      "[83]\tvalidation_0-error:0.002326\n",
      "[84]\tvalidation_0-error:0.002326\n",
      "[85]\tvalidation_0-error:0.002326\n",
      "[86]\tvalidation_0-error:0.002326\n",
      "[87]\tvalidation_0-error:0.002326\n",
      "[88]\tvalidation_0-error:0.002326\n",
      "[89]\tvalidation_0-error:0.002326\n",
      "[90]\tvalidation_0-error:0.002326\n",
      "[91]\tvalidation_0-error:0.002326\n",
      "[92]\tvalidation_0-error:0.002326\n",
      "[93]\tvalidation_0-error:0.002326\n",
      "[94]\tvalidation_0-error:0.002326\n",
      "[95]\tvalidation_0-error:0.002326\n",
      "[96]\tvalidation_0-error:0.002326\n",
      "[97]\tvalidation_0-error:0.002326\n",
      "[98]\tvalidation_0-error:0.002326\n",
      "[99]\tvalidation_0-error:0.002326\n"
     ]
    },
    {
     "data": {
      "text/plain": [
       "XGBClassifier(base_score=0.5, booster='gbtree', colsample_bylevel=1,\n",
       "       colsample_bytree=1, gamma=0, learning_rate=0.1, max_delta_step=0,\n",
       "       max_depth=2, min_child_weight=1, missing=None, n_estimators=100,\n",
       "       n_jobs=1, nthread=None, objective='binary:logistic', random_state=0,\n",
       "       reg_alpha=0, reg_lambda=1, scale_pos_weight=1, seed=None,\n",
       "       silent=True, subsample=1)"
      ]
     },
     "execution_count": 4,
     "metadata": {},
     "output_type": "execute_result"
    }
   ],
   "source": [
    "# 设置boosting迭代计算次数\n",
    "num_round = 100\n",
    "bst = XGBClassifier(max_depth=2, learning_rate=0.1, n_estimators=num_round, silent=True, objective='binary:logistic')\n",
    "eval_set = [(X_validate, y_validate)]\n",
    "bst.fit(X_train_part, y_train_part, eval_metric='error', eval_set=eval_set, verbose=True)"
   ]
  },
  {
   "cell_type": "markdown",
   "metadata": {},
   "source": [
    "模型在每次校验集上的性能存在模型中，可用来进一步进行分析model.evals result()返回一个字典：评估数据集和分数\n",
    "\n",
    "显示学习曲线"
   ]
  },
  {
   "cell_type": "code",
   "execution_count": 5,
   "metadata": {},
   "outputs": [
    {
     "data": {
      "image/png": "[encoded data removed]",
      "text/plain": [
       "<Figure size 432x288 with 1 Axes>"
      ]
     },
     "metadata": {
      "needs_background": "light"
     },
     "output_type": "display_data"
    }
   ],
   "source": [
    "# retrieve performance metrics\n",
    "results = bst.evals_result()\n",
    "\n",
    "epochs = len(results['validation_0']['error'])\n",
    "x_axis = range(0, epochs)\n",
    "\n",
    "# plot classification error\n",
    "fig, ax = plt.subplots()\n",
    "ax.plot(x_axis, results['validation_0']['error'], label='Test')\n",
    "ax.legend()\n",
    "plt.ylabel('Error')\n",
    "plt.xlabel('Round')\n",
    "plt.title('XGBoost Early Stop')\n",
    "plt.show()"
   ]
  },
  {
   "cell_type": "markdown",
   "metadata": {},
   "source": [
    "## 测试\n",
    "模型训练好后，可以用训练好的模型对测试数据进行预测\n",
    "\n",
    "XGBoost预测的输出是概率，输出值是样本为第一类的概率。我们需要将概率值转换为0或1。"
   ]
  },
  {
   "cell_type": "code",
   "execution_count": 6,
   "metadata": {},
   "outputs": [
    {
     "name": "stdout",
     "output_type": "stream",
     "text": [
      "Test Accuracy: 99.81%\n"
     ]
    }
   ],
   "source": [
    "# make prediction\n",
    "preds = bst.predict(X_test)\n",
    "predictions = [round(value) for value in preds]\n",
    "\n",
    "test_accuracy = accuracy_score(y_test, predictions)\n",
    "print(\"Test Accuracy: %.2f%%\" % (test_accuracy * 100.0))"
   ]
  },
  {
   "cell_type": "code",
   "execution_count": null,
   "metadata": {},
   "outputs": [],
   "source": []
  }
 ],
 "metadata": {
  "kernelspec": {
   "display_name": "Python 3",
   "language": "python",
   "name": "python3"
  },
  "language_info": {
   "codemirror_mode": {
    "name": "ipython",
    "version": 3
   },
   "file_extension": ".py",
   "mimetype": "text/x-python",
   "name": "python",
   "nbconvert_exporter": "python",
   "pygments_lexer": "ipython3",
   "version": "3.6.7"
  }
 },
 "nbformat": 4,
 "nbformat_minor": 2
}
