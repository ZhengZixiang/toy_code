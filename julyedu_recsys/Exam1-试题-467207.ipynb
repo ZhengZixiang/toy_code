{
 "cells": [
  {
   "cell_type": "markdown",
   "metadata": {
    "ExecuteTime": {
     "end_time": "2018-11-27T06:15:40.217364Z",
     "start_time": "2018-11-27T06:15:40.213967Z"
    }
   },
   "source": [
    "# 七月在线《推荐系统实战》第一阶段考试\n",
    "\n",
    "\n",
    "- 起止时间：请同学在2018年12月5日至12月12日期间完成\n",
    "- 考试方式：请同学将该试卷进行**复制**后，并且**改名为自己的七月在线UID**后，如Exam1-253398.ipynb，<b>移动</b>至/0.Teacher/Exam/1/目录下后，进行答题。\n",
    "- 注意事项：为确保同学们真正了解自身对本周课程的掌握程度，<font color=red><b>请勿翻阅，移动，更改</b></font>其它同学试卷。如发现按0分处理\n",
    "- 请同学在下方同学姓名处填写自己的姓名和UID(学号)，批改人和最终得分不用填写"
   ]
  },
  {
   "cell_type": "markdown",
   "metadata": {},
   "source": [
    "- 同学姓名:<b>纸箱</b>  \n",
    "- 七月在线UID(学号):<b>467207</b>  \n",
    "- 批改人：张雨\n",
    "- 最终得分: 97分"
   ]
  },
  {
   "cell_type": "markdown",
   "metadata": {},
   "source": [
    "## 简答题（共10题，每题4分，共40分）\n",
    "<font color=red>题目编号仅用于判题方便,与题目顺序无关</font>  \n",
    "<font color=red>题目编号仅用于判题方便,与题目顺序无关</font>  \n",
    "<font color=red>题目编号仅用于判题方便,与题目顺序无关</font>  "
   ]
  },
  {
   "cell_type": "markdown",
   "metadata": {},
   "source": [
    "### 1.简述推荐系统的演进史."
   ]
  },
  {
   "cell_type": "markdown",
   "metadata": {},
   "source": [
    "- 1.0：Apriori等关联规则、热门推荐等统计方法\n",
    "- 2.0：矩阵分解等ML方法，离线计算推荐列表\n",
    "- 3.0：召回+learning to rank(LTR)重排序\n",
    "- 4.0：召回+排序实时化\n",
    "- 5.0：end2end深度学习，一切皆embedding\n",
    "- 6.0：智能化推荐系统\n",
    "\n",
    "another perspective：\n",
    "- 单一模块$\\to$多模块解耦\n",
    "- 单一目标$\\to$多目标\n",
    "- 单个场景$\\to$多场景（平台化）\n",
    "- 离线计算$\\to$实时计算\n",
    "- 人工规则$\\to$人工智能\n",
    "- 浅度模型$\\to$深度模型"
   ]
  },
  {
   "cell_type": "markdown",
   "metadata": {},
   "source": [
    "* <font color=red>  3分\n",
    "* <font color=red> 分类目录(1990):覆盖少量热门网站(Hao123 Yahoo)\n",
    "* <font color=red> 搜索引擎(2000):通过搜索词明确需求(Google Baidu)\n",
    "* <font color=red> 推荐系统(2010):不需要用户提供明确的需求,通过分析用户的历史行为给用户的兴趣进行建模,从而主动给用户推荐能够满足他们兴趣和需求的信息."
   ]
  },
  {
   "cell_type": "markdown",
   "metadata": {},
   "source": [
    "### 2.对比分析搜索与推荐区别."
   ]
  },
  {
   "cell_type": "markdown",
   "metadata": {},
   "source": [
    "- **行为方式**\n",
    "    - 搜索：主动\n",
    "    - 推荐：被动\n",
    "- **意图**\n",
    "    - 搜索：明确\n",
    "    - 推荐：模糊\n",
    "- **个性化**\n",
    "    - 搜索：弱\n",
    "    - 推荐：强\n",
    "- **流量分布**\n",
    "    - 搜索：马太效应\n",
    "    - 推荐：长尾效应\n",
    "- **目标**\n",
    "    - 搜索：快速满足\n",
    "    - 推荐：持续服务\n",
    "- **评估指标**\n",
    "    - 搜索：简明\n",
    "    - 推荐：复杂"
   ]
  },
  {
   "cell_type": "markdown",
   "metadata": {},
   "source": [
    " - <font color=red>  4分"
   ]
  },
  {
   "cell_type": "markdown",
   "metadata": {},
   "source": [
    "### 6.推荐系统常用评估指标\n"
   ]
  },
  {
   "cell_type": "markdown",
   "metadata": {},
   "source": [
    "- 准确性\n",
    "- 满意度\n",
    "- 覆盖率\n",
    "- 多样性\n",
    "- 新颖性\n",
    "- 惊喜度\n",
    "- 信任度\n",
    "- 实时性\n",
    "- 鲁棒性\n",
    "- 可扩展性\n",
    "- 商业目标\n",
    "- 用户留存"
   ]
  },
  {
   "cell_type": "markdown",
   "metadata": {},
   "source": [
    " - <font color=red>  4分"
   ]
  },
  {
   "cell_type": "markdown",
   "metadata": {},
   "source": [
    "### 7.推荐系统准确性(学术界)的评估函数"
   ]
  },
  {
   "cell_type": "markdown",
   "metadata": {},
   "source": [
    "- 评分预测：\n",
    "$$\\mathrm{RMSE}=\\sqrt{\\frac{\\sum_{u,i\\in T}(r_{ui}-\\hat{r}_{ui})^2}{|T|}}$$\n",
    "$$\\mathrm{MAE}=\\frac{\\sum_{u,i\\in T}|r_{ui}-\\hat{r}_{ui}|}{|T|}$$\n",
    "- topN推荐\n",
    "$$\\mathrm{Recall}=\\frac{\\sum_{u\\in U}|R(u)\\cap T(u)|}{\\sum_{u\\in U}|T(u)|}$$\n",
    "$$\\mathrm{Precision}=\\frac{\\sum_{u\\in U}|R(u)\\cap T(u)|}{\\sum_{u\\in U}|R(u)|}$$\n",
    "or use $F_1$ measure to trade off recall and precision rate"
   ]
  },
  {
   "cell_type": "markdown",
   "metadata": {},
   "source": [
    " - <font color=red>  4分"
   ]
  },
  {
   "cell_type": "markdown",
   "metadata": {},
   "source": [
    "### 12.什么是Exploitation & Exploration?"
   ]
  },
  {
   "cell_type": "markdown",
   "metadata": {},
   "source": [
    "- Exploitation：选择现在可能最佳的方案。\n",
    "- Exploration: 选择现在不确定的一些方案，但未来可能会有高收益的方案。\n",
    "\n",
    "换句话说，是要保守地推荐已知地与用户历史行为相近的产品，还是去探索一些未通过用户行为捕获，但用户却很可能产生兴趣的产品。最在做两类决策的过程中，不断更新对所有决策的不确定性的认知，优化长期的目标函数。"
   ]
  },
  {
   "cell_type": "markdown",
   "metadata": {},
   "source": [
    " - <font color=red>  4分"
   ]
  },
  {
   "cell_type": "markdown",
   "metadata": {},
   "source": [
    "### 13.Bandit算法-原理"
   ]
  },
  {
   "cell_type": "markdown",
   "metadata": {},
   "source": [
    "- Epsilon-Greedy: 以1-epsilon的概率选取当前收益最大的臂做exploitation，以epsilon的概率随机选取一个臂做exploration。\n",
    "- Upper Confidence Bound：均值越大，标准差越小，被选中的概率会越来越大。\n",
    "$$\\bar{x}_j(t)+\\sqrt{\\frac{2\\ln{t}}{T_{j,t}}}$$\n",
    "- Thompson Sampling：每个臂维护一个beta(wins, lose)分布，每次用现有的beta分布产生一个随机数，选择随机数最大的臂。"
   ]
  },
  {
   "cell_type": "markdown",
   "metadata": {},
   "source": [
    " - <font color=red>  4分"
   ]
  },
  {
   "cell_type": "markdown",
   "metadata": {},
   "source": [
    "### 15.简述推荐系统中常用的Match算法"
   ]
  },
  {
   "cell_type": "markdown",
   "metadata": {},
   "source": [
    "- Collaborative Filtering(CF)\n",
    "    - User-based CF\n",
    "        多用于挖掘那些有共同兴趣的小团体，通常新颖性较好，但是准确性稍差。\n",
    "    - Item-based CF\n",
    "        侧重于挖掘item之间的关系，然后根据用户的历史行为来为用户生成推荐列表。\n",
    "        - 改进版I2I\n",
    "            - motivation：热门用户、哈利波特效应、用户行为缺乏考虑\n",
    "            - solution：热门用户降权，热门item降权\n",
    "        - 实时I2I\n",
    "            - motivation：新品推荐问题\n",
    "            - solution：实时增量I2I\n",
    "        - Hybrid I2I\n",
    "            - motivation：无监督学习，无法刻画场景差异\n",
    "            - solution：有监督Hybrid多种I2I算法\n",
    "    - Model-based CF(SVD)\n",
    "- embedding\n",
    "- 利用类目或热门补足抄底"
   ]
  },
  {
   "cell_type": "markdown",
   "metadata": {},
   "source": [
    " - <font color=red>  4分"
   ]
  },
  {
   "cell_type": "markdown",
   "metadata": {},
   "source": [
    "### 19.Model Based CF算法(SVD)公式"
   ]
  },
  {
   "cell_type": "markdown",
   "metadata": {},
   "source": [
    "$$\\arg\\min_{U,\\Sigma,V}(Y-U\\Sigma V^T)^2=\\arg\\min_{U,\\Sigma,V}\\sum_{i=1}^m\\sum_{j=1}^n(y_{ij}-(U\\Sigma V^T)_{ij})^2$$\n",
    "原始SVD是CF的suboptimal，有如下缺点：\n",
    "- 缺失数据和观测到的数据权重相同，但是实际上评分矩阵非常稀疏\n",
    "- 没有正则项，容易过拟合\n",
    "\n",
    "于是提出了Adjust SVD，预测值如下：\n",
    "$$\\hat{y}_{ui}=v_u^Tv_i$$\n",
    "其中$v_u$是user latent veector，$v_i$是item latent vector，由于加入正则项于是优化目标变成了：\n",
    "$$L=\\sum_u\\sum_iw_{ui}(y_{ui}-\\hat{y}_{ui})^2+\\lambda(\\sum_u||v_u||^2+\\sum_i||v_i||^2)$$"
   ]
  },
  {
   "cell_type": "markdown",
   "metadata": {},
   "source": [
    " - <font color=red>  4分"
   ]
  },
  {
   "cell_type": "markdown",
   "metadata": {},
   "source": [
    "### 20.embedding学习常用算法"
   ]
  },
  {
   "cell_type": "markdown",
   "metadata": {},
   "source": [
    "- Matrix Factorization\n",
    "- Topic Model (pLSA, LDA)\n",
    "- word2vec (CBoW, skip-gram)\n",
    "    - hierarchical softmax & negative sampling\n",
    "    - Airbnb application detail:\n",
    "        - session做切分依据\n",
    "        - book listing作为global context加入学习，提高转化率\n",
    "        - 同一market做neg sampling\n",
    "        - 冷启动用近邻listing做平均\n",
    "- DNN"
   ]
  },
  {
   "cell_type": "markdown",
   "metadata": {},
   "source": [
    " - <font color=red>  4分"
   ]
  },
  {
   "cell_type": "markdown",
   "metadata": {},
   "source": [
    "### 21.通用召回框架有哪些?"
   ]
  },
  {
   "cell_type": "markdown",
   "metadata": {},
   "source": [
    "以淘宝为例，candidate item list来自：\n",
    "- 根据用户历史信息user action，进行用户偏好建模，得到item2item\n",
    "- 根据用户画像user profile，可以得到brand2item\n",
    "- 根据数据库类目，得到cat2item\n",
    "\n",
    "以Google为例，candidate item list来自：\n",
    "1. 通过Context和user id从数据库中得到user feature\n",
    "2. 从参数服务器parameter server得到user embedding\n",
    "3. 再在内存中使用KNN搜索得到candidate item\n",
    "\n",
    "而这些倒排索引往往使用key-value存储。\n",
    "\n",
    "NoSQL存储：存储键值对，修改灵活，无join操作，操作简单，速度快\n",
    "- hbase：分布式、持久化、常用于大数据存储\n",
    "- redis：基于内存、速度快、常用于缓存\n",
    "\n",
    "先访问redis这类缓存，如果没有命中，再访问hbase这种分布式存储系统。\n",
    "\n",
    "通用召回框架的两个基本问题：\n",
    "1. 如何选取key？（用户偏好建模）\n",
    "2. 如何查询value？（KNN search）"
   ]
  },
  {
   "cell_type": "markdown",
   "metadata": {},
   "source": [
    "- <font color=red>  2分\n",
    "\n",
    "* <font color=red>Sharding\n",
    "* <font color=red>Hashing\n",
    "* <font color=red> k-d tree\n",
    "* <font color=red>ball tree"
   ]
  },
  {
   "cell_type": "markdown",
   "metadata": {},
   "source": [
    "## 代码题（共2题可选，每题20分，共20分）"
   ]
  },
  {
   "cell_type": "markdown",
   "metadata": {},
   "source": [
    "### Bandit算法实现(需添加详细注释)"
   ]
  },
  {
   "cell_type": "code",
   "execution_count": 6,
   "metadata": {},
   "outputs": [
    {
     "data": {
      "image/png": "[encoded data removed]",
      "text/plain": [
       "<Figure size 432x288 with 1 Axes>"
      ]
     },
     "metadata": {
      "needs_background": "light"
     },
     "output_type": "display_data"
    }
   ],
   "source": [
    "import numpy as np\n",
    "import matplotlib.pyplot as plt\n",
    "import math\n",
    "%matplotlib inline\n",
    "\n",
    "number_of_bandits = 10  # 老虎机个数\n",
    "number_of_arms=10  # 老虎机臂数\n",
    "number_of_pulls=10000  # 老虎机被选中探索次数\n",
    "epsilon = 0.3  # exploration比例\n",
    "min_temp = 0.1 # 衰减epsilon的最小阈值\n",
    "decay_rate = 0.999  # exploration程度衰减系数\n",
    "\n",
    "\n",
    "def pick_arm(q_values, counts, strategy, success, failure):\n",
    "    \"\"\"exploitation & exploration\"\"\"\n",
    "    global epsilon\n",
    "\n",
    "    if strategy == 'random':\n",
    "        # 随机选择\n",
    "        return np.random.randint(0, len(q_values))\n",
    "\n",
    "    if strategy == 'greedy':\n",
    "        # 贪心，不做探索，只选当前收益最大的老虎机\n",
    "        best_arms_value = np.max(q_values)\n",
    "        best_arms = np.argwhere(q_values==best_arms_value).flatten()\n",
    "        return best_arms[np.random.randint(0,len(best_arms))]\n",
    "\n",
    "    if strategy == 'egreedy' or strategy == 'egreedy_decay':\n",
    "        # 当对用户比较了解时，可能不再需要太高比例的探索，因此用decay_rate来减弱探索程度\n",
    "        if  strategy == \"egreedy_decay\":\n",
    "            epsilon = max(epsilon * decay_rate, min_temp)\n",
    "\n",
    "        # 以1-epsilon概率选取当前收益最大的臂，以epsilon的概率随机选取一个臂\n",
    "        if np.random.random() > epsilon:\n",
    "            best_arms_value = np.max(q_values)  # 得到收益最大的臂\n",
    "            best_arms = np.argwhere(q_values == best_arms_value).flatten()\n",
    "            return best_arms[np.random.randint(0,len(best_arms))]\n",
    "        else:\n",
    "            return np.random.randint(0,len(q_values))\n",
    "\n",
    "    if strategy == 'ucb':\n",
    "        # Upper Confidence Bound\n",
    "        # 均值越大，标准差越小，被选中的概率会越来越大 $\\bar{x_j}(t)+\\sqrt{\\frac{2\\ln{t}}{T_{j,t}}}$\n",
    "        total_counts = np.sum(counts)  # 每个臂的使用次数之和\n",
    "\n",
    "        # 第一项：当前得到的多臂老虎机收益率 第二项：避免部分老虎机过多探索，0.001平滑项\n",
    "        q_values_ucb = q_values + np.sqrt(np.reciprocal(counts + 0.001) * 2 * math.log(total_counts + 1.0))\n",
    "        best_arms_value = np.max(q_values_ucb)\n",
    "        best_arms = np.argwhere(q_values_ucb == best_arms_value).flatten()\n",
    "        return best_arms[np.random.randint(0,len(best_arms))]\n",
    "\n",
    "    if strategy == 'thompson':\n",
    "        # 汤普森采样，每个臂维护一个beta分布，每次用现有的beta分布产生一个随机数，选择随机数最大的臂\n",
    "        sample_means = np.zeros(len(counts))\n",
    "        for i in range(len(counts)):\n",
    "            sample_means[i]=np.random.beta(success[i]+1,failure[i]+1)\n",
    "        return np.argmax(sample_means)\n",
    "\n",
    "\n",
    "fig = plt.figure()\n",
    "ax = fig.add_subplot(111)\n",
    "\n",
    "for st in ['greedy', 'random', 'egreedy', 'egreedy_decay', 'ucb', 'thompson']:\n",
    "    best_arm_counts = np.zeros((number_of_bandits,number_of_pulls))\n",
    "\n",
    "    for i in range(number_of_bandits):\n",
    "        arm_means = np.random.rand(number_of_arms)\n",
    "        best_arm = np.argmax(arm_means)\n",
    "\n",
    "        q_values = np.zeros(number_of_arms)\n",
    "        counts = np.zeros(number_of_arms)\n",
    "        success = np.zeros(number_of_arms)\n",
    "        failure = np.zeros(number_of_arms)\n",
    "\n",
    "        for j in range(number_of_pulls):\n",
    "            a = pick_arm(q_values,counts,st,success,failure)\n",
    "\n",
    "            reward = np.random.binomial(1,arm_means[a])\n",
    "            counts[a] += 1.0\n",
    "            q_values[a] += (reward-q_values[a])/counts[a]\n",
    "\n",
    "            success[a] += reward\n",
    "            failure[a] += (1-reward)\n",
    "            best_arm_counts[i][j] = counts[best_arm]*100.0/(j+1)\n",
    "        epsilon = 0.3\n",
    "\n",
    "    ys = np.mean(best_arm_counts, axis=0)\n",
    "    xs = range(len(ys))\n",
    "    ax.plot(xs, ys, label=st)\n",
    "\n",
    "plt.xlabel('Steps')\n",
    "plt.ylabel('Optimal pulls')\n",
    "\n",
    "plt.tight_layout()\n",
    "plt.legend()\n",
    "plt.ylim((0, 110))\n",
    "plt.show()"
   ]
  },
  {
   "cell_type": "markdown",
   "metadata": {},
   "source": [
    " - <font color=red>  20分"
   ]
  },
  {
   "cell_type": "markdown",
   "metadata": {},
   "source": [
    "### Movielens上的MF实战 (TensorFlow)"
   ]
  },
  {
   "cell_type": "code",
   "execution_count": null,
   "metadata": {},
   "outputs": [],
   "source": []
  },
  {
   "cell_type": "markdown",
   "metadata": {},
   "source": [
    "## 思考题(共5题,每题8分,共40分)"
   ]
  },
  {
   "cell_type": "markdown",
   "metadata": {},
   "source": [
    "### 推荐系统应用场景有哪些?"
   ]
  },
  {
   "cell_type": "markdown",
   "metadata": {},
   "source": [
    "不需要用户提供明确的需求，通过分析用户的历史行为给用户的兴趣进行建模，从而主动给用户推荐能够满足他们兴趣和需求的信息。\n",
    "\n",
    "例如头条新闻推荐、抖音短视频推荐、阿里亚马逊的商品推荐等。"
   ]
  },
  {
   "cell_type": "markdown",
   "metadata": {},
   "source": [
    " - <font color=red>  8分"
   ]
  },
  {
   "cell_type": "markdown",
   "metadata": {},
   "source": [
    "### 已经购买了某商品的用户,再次收到推荐系统推荐相同的物品,怎么解决?"
   ]
  },
  {
   "cell_type": "markdown",
   "metadata": {},
   "source": [
    "买了还推是否好坏由商业目标决定，是点击率预估（CTR）？还是用户30天活跃度？还是购买率、转化率（CVR）？\n",
    "\n",
    "一方面从短期看，买了还推在实践中确实会让用户发生重复购买的行为，CVR增加，从而产生商业价值。\n",
    "\n",
    "另一方面从长期看，买了还推会对用户体验、用户黏性造成负面影响，让用户厌烦。"
   ]
  },
  {
   "cell_type": "markdown",
   "metadata": {},
   "source": [
    " - <font color=red>  8分"
   ]
  },
  {
   "cell_type": "markdown",
   "metadata": {},
   "source": [
    "### 推荐过于同质化怎么解决?\n",
    "> 所谓“同质化”是指同一大类中不同品牌的商品在性能、外观甚至营销手段上相互模仿，以至逐渐趋同的现象，在商品同质化基础上的市场竞争行为称为“同质化竞争”，可指某个领域存在大致相同的类型、制作手段、制作流程、传递内容大致相同的各类信息的现象。"
   ]
  },
  {
   "cell_type": "markdown",
   "metadata": {},
   "source": [
    "同质化使用listwise（LTR）解决。"
   ]
  },
  {
   "cell_type": "markdown",
   "metadata": {},
   "source": [
    " - <font color=red>  8分"
   ]
  },
  {
   "cell_type": "markdown",
   "metadata": {},
   "source": [
    "### 搭配推荐该如何做?"
   ]
  },
  {
   "cell_type": "markdown",
   "metadata": {},
   "source": [
    "- 使用看了还看的方式做I2I解决。\n",
    "- 上溯。例如提前约束好衣服搭配鞋子等，这样搭配推荐结果会很好。"
   ]
  },
  {
   "cell_type": "markdown",
   "metadata": {},
   "source": [
    " - <font color=red>  8分"
   ]
  },
  {
   "cell_type": "markdown",
   "metadata": {},
   "source": [
    "### 简述K -Nearest Neighbors search"
   ]
  },
  {
   "cell_type": "markdown",
   "metadata": {},
   "source": [
    "KNN搜索目的就是找出与user\\item近邻，从而做相似推荐，具体做法有：\n",
    "- Brute force 暴力计算\n",
    "- Sharding 暴力并行计算最近邻，适合候选集较小时使用\n",
    "- ANN、LSH 近似最近邻\n",
    "- K-Dimension tree $\\to$ ball tree\n",
    "- 只计算部分类别下的距离"
   ]
  },
  {
   "cell_type": "markdown",
   "metadata": {},
   "source": [
    " - <font color=red>  8分"
   ]
  },
  {
   "cell_type": "markdown",
   "metadata": {},
   "source": [
    "## 参考资料"
   ]
  },
  {
   "cell_type": "markdown",
   "metadata": {},
   "source": [
    "• ItemBased Collaborative Filtering Recommendation Algorithms \n",
    "• Amazon.com recommendations: Item-to-Item Collaborative Filtering    \n",
    "• 推荐系统实战.项亮 http://vdisk.weibo.com/s/aSXlSkLAQjzMT  \n",
    "• 天猫推荐业务与算法架构.张奇.2013. http://topic.it168.com/factory/adc2013/doc/zhangqi.pdf  \n",
    "• 淘宝搜索技术演变 https://mp.weixin.qq.com/s/jUQHnATSiOpKfDeY_vQ6YA    \n",
    "• 淘宝网的推荐算法具体是怎么样的? - xiao ma的回答 - 知乎 https://\n",
    "www.zhihu.com/question/29108284/answer/43247127  \n",
    "• 双十一手淘首页个性分享 https://mp.weixin.qq.com/s/vpxLTcwenvlIvj5D-8uolg  \n",
    "• 淘宝天猫个性化推荐技术演进史 https://blog.csdn.net/broadview2006/article/details/71455437  \n",
    "• 深度解析京东个性化推荐系统演进史 https://blog.csdn.net/qq_40027052/article/details/78733365  \n",
    "• 今日头条推荐算法原理 http://www.sohu.com/a/217314007_297710  "
   ]
  },
  {
   "cell_type": "markdown",
   "metadata": {},
   "source": [
    "### 数据和代码汇总"
   ]
  },
  {
   "cell_type": "markdown",
   "metadata": {},
   "source": [
    "• 阿里天池数据集合https://tianchi.aliyun.com/datalab/index.htm?spm=5176.100073.0.0.21316fc1Q34jZU  \n",
    "• CTR预估代码汇总 https://github.com/shenweichen/DeepCTR  \n",
    "• CTR-CVR相关模型 https://arxiv.org/abs/1804.07931  \n",
    "• Movielens推荐 https://github.com/chengstone/movie_recommender  \n",
    "• 随手看到的LTR代码:https://github.com/shiba24/learning2rank  "
   ]
  }
 ],
 "metadata": {
  "kernelspec": {
   "display_name": "Python 3",
   "language": "python",
   "name": "python3"
  },
  "language_info": {
   "codemirror_mode": {
    "name": "ipython",
    "version": 3
   },
   "file_extension": ".py",
   "mimetype": "text/x-python",
   "name": "python",
   "nbconvert_exporter": "python",
   "pygments_lexer": "ipython3",
   "version": "3.5.2"
  },
  "toc": {
   "base_numbering": 1,
   "nav_menu": {},
   "number_sections": true,
   "sideBar": true,
   "skip_h1_title": false,
   "title_cell": "Table of Contents",
   "title_sidebar": "Contents",
   "toc_cell": false,
   "toc_position": {
    "height": "calc(100% - 180px)",
    "left": "10px",
    "top": "150px",
    "width": "330px"
   },
   "toc_section_display": true,
   "toc_window_display": true
  }
 },
 "nbformat": 4,
 "nbformat_minor": 2
}
